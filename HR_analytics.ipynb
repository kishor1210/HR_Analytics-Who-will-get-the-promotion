{
 "cells": [
  {
   "cell_type": "code",
   "execution_count": 1,
   "metadata": {},
   "outputs": [],
   "source": [
    "%load_ext autoreload\n",
    "%autoreload 2\n",
    "%matplotlib inline"
   ]
  },
  {
   "cell_type": "code",
   "execution_count": 2,
   "metadata": {},
   "outputs": [],
   "source": [
    "import pandas as pd\n",
    "import math\n",
    "\n",
    "from sklearn.ensemble import RandomForestRegressor, RandomForestClassifier\n",
    "from IPython.display import display\n",
    "import xgboost\n",
    "\n",
    "from sklearn.model_selection import train_test_split\n"
   ]
  },
  {
   "cell_type": "code",
   "execution_count": 3,
   "metadata": {},
   "outputs": [],
   "source": [
    "df_train = pd.read_csv(\"data/train.csv\")\n",
    "df_test = pd.read_csv(\"data/test.csv\")"
   ]
  },
  {
   "cell_type": "code",
   "execution_count": 4,
   "metadata": {},
   "outputs": [
    {
     "data": {
      "text/html": [
       "<div>\n",
       "<style scoped>\n",
       "    .dataframe tbody tr th:only-of-type {\n",
       "        vertical-align: middle;\n",
       "    }\n",
       "\n",
       "    .dataframe tbody tr th {\n",
       "        vertical-align: top;\n",
       "    }\n",
       "\n",
       "    .dataframe thead th {\n",
       "        text-align: right;\n",
       "    }\n",
       "</style>\n",
       "<table border=\"1\" class=\"dataframe\">\n",
       "  <thead>\n",
       "    <tr style=\"text-align: right;\">\n",
       "      <th></th>\n",
       "      <th>employee_id</th>\n",
       "      <th>no_of_trainings</th>\n",
       "      <th>age</th>\n",
       "      <th>previous_year_rating</th>\n",
       "      <th>length_of_service</th>\n",
       "      <th>KPIs_met &gt;80%</th>\n",
       "      <th>awards_won?</th>\n",
       "      <th>avg_training_score</th>\n",
       "      <th>is_promoted</th>\n",
       "    </tr>\n",
       "  </thead>\n",
       "  <tbody>\n",
       "    <tr>\n",
       "      <th>count</th>\n",
       "      <td>54808.000000</td>\n",
       "      <td>54808.000000</td>\n",
       "      <td>54808.000000</td>\n",
       "      <td>50684.000000</td>\n",
       "      <td>54808.000000</td>\n",
       "      <td>54808.000000</td>\n",
       "      <td>54808.000000</td>\n",
       "      <td>54808.000000</td>\n",
       "      <td>54808.000000</td>\n",
       "    </tr>\n",
       "    <tr>\n",
       "      <th>mean</th>\n",
       "      <td>39195.830627</td>\n",
       "      <td>1.253011</td>\n",
       "      <td>34.803915</td>\n",
       "      <td>3.329256</td>\n",
       "      <td>5.865512</td>\n",
       "      <td>0.351974</td>\n",
       "      <td>0.023172</td>\n",
       "      <td>63.386750</td>\n",
       "      <td>0.085170</td>\n",
       "    </tr>\n",
       "    <tr>\n",
       "      <th>std</th>\n",
       "      <td>22586.581449</td>\n",
       "      <td>0.609264</td>\n",
       "      <td>7.660169</td>\n",
       "      <td>1.259993</td>\n",
       "      <td>4.265094</td>\n",
       "      <td>0.477590</td>\n",
       "      <td>0.150450</td>\n",
       "      <td>13.371559</td>\n",
       "      <td>0.279137</td>\n",
       "    </tr>\n",
       "    <tr>\n",
       "      <th>min</th>\n",
       "      <td>1.000000</td>\n",
       "      <td>1.000000</td>\n",
       "      <td>20.000000</td>\n",
       "      <td>1.000000</td>\n",
       "      <td>1.000000</td>\n",
       "      <td>0.000000</td>\n",
       "      <td>0.000000</td>\n",
       "      <td>39.000000</td>\n",
       "      <td>0.000000</td>\n",
       "    </tr>\n",
       "    <tr>\n",
       "      <th>25%</th>\n",
       "      <td>19669.750000</td>\n",
       "      <td>1.000000</td>\n",
       "      <td>29.000000</td>\n",
       "      <td>3.000000</td>\n",
       "      <td>3.000000</td>\n",
       "      <td>0.000000</td>\n",
       "      <td>0.000000</td>\n",
       "      <td>51.000000</td>\n",
       "      <td>0.000000</td>\n",
       "    </tr>\n",
       "    <tr>\n",
       "      <th>50%</th>\n",
       "      <td>39225.500000</td>\n",
       "      <td>1.000000</td>\n",
       "      <td>33.000000</td>\n",
       "      <td>3.000000</td>\n",
       "      <td>5.000000</td>\n",
       "      <td>0.000000</td>\n",
       "      <td>0.000000</td>\n",
       "      <td>60.000000</td>\n",
       "      <td>0.000000</td>\n",
       "    </tr>\n",
       "    <tr>\n",
       "      <th>75%</th>\n",
       "      <td>58730.500000</td>\n",
       "      <td>1.000000</td>\n",
       "      <td>39.000000</td>\n",
       "      <td>4.000000</td>\n",
       "      <td>7.000000</td>\n",
       "      <td>1.000000</td>\n",
       "      <td>0.000000</td>\n",
       "      <td>76.000000</td>\n",
       "      <td>0.000000</td>\n",
       "    </tr>\n",
       "    <tr>\n",
       "      <th>max</th>\n",
       "      <td>78298.000000</td>\n",
       "      <td>10.000000</td>\n",
       "      <td>60.000000</td>\n",
       "      <td>5.000000</td>\n",
       "      <td>37.000000</td>\n",
       "      <td>1.000000</td>\n",
       "      <td>1.000000</td>\n",
       "      <td>99.000000</td>\n",
       "      <td>1.000000</td>\n",
       "    </tr>\n",
       "  </tbody>\n",
       "</table>\n",
       "</div>"
      ],
      "text/plain": [
       "        employee_id  no_of_trainings           age  previous_year_rating  \\\n",
       "count  54808.000000     54808.000000  54808.000000          50684.000000   \n",
       "mean   39195.830627         1.253011     34.803915              3.329256   \n",
       "std    22586.581449         0.609264      7.660169              1.259993   \n",
       "min        1.000000         1.000000     20.000000              1.000000   \n",
       "25%    19669.750000         1.000000     29.000000              3.000000   \n",
       "50%    39225.500000         1.000000     33.000000              3.000000   \n",
       "75%    58730.500000         1.000000     39.000000              4.000000   \n",
       "max    78298.000000        10.000000     60.000000              5.000000   \n",
       "\n",
       "       length_of_service  KPIs_met >80%   awards_won?  avg_training_score  \\\n",
       "count       54808.000000   54808.000000  54808.000000        54808.000000   \n",
       "mean            5.865512       0.351974      0.023172           63.386750   \n",
       "std             4.265094       0.477590      0.150450           13.371559   \n",
       "min             1.000000       0.000000      0.000000           39.000000   \n",
       "25%             3.000000       0.000000      0.000000           51.000000   \n",
       "50%             5.000000       0.000000      0.000000           60.000000   \n",
       "75%             7.000000       1.000000      0.000000           76.000000   \n",
       "max            37.000000       1.000000      1.000000           99.000000   \n",
       "\n",
       "        is_promoted  \n",
       "count  54808.000000  \n",
       "mean       0.085170  \n",
       "std        0.279137  \n",
       "min        0.000000  \n",
       "25%        0.000000  \n",
       "50%        0.000000  \n",
       "75%        0.000000  \n",
       "max        1.000000  "
      ]
     },
     "execution_count": 4,
     "metadata": {},
     "output_type": "execute_result"
    }
   ],
   "source": [
    "df_train.describe()"
   ]
  },
  {
   "cell_type": "code",
   "execution_count": 5,
   "metadata": {},
   "outputs": [
    {
     "data": {
      "text/html": [
       "<div>\n",
       "<style scoped>\n",
       "    .dataframe tbody tr th:only-of-type {\n",
       "        vertical-align: middle;\n",
       "    }\n",
       "\n",
       "    .dataframe tbody tr th {\n",
       "        vertical-align: top;\n",
       "    }\n",
       "\n",
       "    .dataframe thead th {\n",
       "        text-align: right;\n",
       "    }\n",
       "</style>\n",
       "<table border=\"1\" class=\"dataframe\">\n",
       "  <thead>\n",
       "    <tr style=\"text-align: right;\">\n",
       "      <th></th>\n",
       "      <th>employee_id</th>\n",
       "      <th>department</th>\n",
       "      <th>region</th>\n",
       "      <th>education</th>\n",
       "      <th>gender</th>\n",
       "      <th>recruitment_channel</th>\n",
       "      <th>no_of_trainings</th>\n",
       "      <th>age</th>\n",
       "      <th>previous_year_rating</th>\n",
       "      <th>length_of_service</th>\n",
       "      <th>KPIs_met &gt;80%</th>\n",
       "      <th>awards_won?</th>\n",
       "      <th>avg_training_score</th>\n",
       "      <th>is_promoted</th>\n",
       "    </tr>\n",
       "  </thead>\n",
       "  <tbody>\n",
       "    <tr>\n",
       "      <th>0</th>\n",
       "      <td>65438</td>\n",
       "      <td>Sales &amp; Marketing</td>\n",
       "      <td>region_7</td>\n",
       "      <td>Master's &amp; above</td>\n",
       "      <td>f</td>\n",
       "      <td>sourcing</td>\n",
       "      <td>1</td>\n",
       "      <td>35</td>\n",
       "      <td>5.0</td>\n",
       "      <td>8</td>\n",
       "      <td>1</td>\n",
       "      <td>0</td>\n",
       "      <td>49</td>\n",
       "      <td>0</td>\n",
       "    </tr>\n",
       "    <tr>\n",
       "      <th>1</th>\n",
       "      <td>65141</td>\n",
       "      <td>Operations</td>\n",
       "      <td>region_22</td>\n",
       "      <td>Bachelor's</td>\n",
       "      <td>m</td>\n",
       "      <td>other</td>\n",
       "      <td>1</td>\n",
       "      <td>30</td>\n",
       "      <td>5.0</td>\n",
       "      <td>4</td>\n",
       "      <td>0</td>\n",
       "      <td>0</td>\n",
       "      <td>60</td>\n",
       "      <td>0</td>\n",
       "    </tr>\n",
       "    <tr>\n",
       "      <th>2</th>\n",
       "      <td>7513</td>\n",
       "      <td>Sales &amp; Marketing</td>\n",
       "      <td>region_19</td>\n",
       "      <td>Bachelor's</td>\n",
       "      <td>m</td>\n",
       "      <td>sourcing</td>\n",
       "      <td>1</td>\n",
       "      <td>34</td>\n",
       "      <td>3.0</td>\n",
       "      <td>7</td>\n",
       "      <td>0</td>\n",
       "      <td>0</td>\n",
       "      <td>50</td>\n",
       "      <td>0</td>\n",
       "    </tr>\n",
       "    <tr>\n",
       "      <th>3</th>\n",
       "      <td>2542</td>\n",
       "      <td>Sales &amp; Marketing</td>\n",
       "      <td>region_23</td>\n",
       "      <td>Bachelor's</td>\n",
       "      <td>m</td>\n",
       "      <td>other</td>\n",
       "      <td>2</td>\n",
       "      <td>39</td>\n",
       "      <td>1.0</td>\n",
       "      <td>10</td>\n",
       "      <td>0</td>\n",
       "      <td>0</td>\n",
       "      <td>50</td>\n",
       "      <td>0</td>\n",
       "    </tr>\n",
       "    <tr>\n",
       "      <th>4</th>\n",
       "      <td>48945</td>\n",
       "      <td>Technology</td>\n",
       "      <td>region_26</td>\n",
       "      <td>Bachelor's</td>\n",
       "      <td>m</td>\n",
       "      <td>other</td>\n",
       "      <td>1</td>\n",
       "      <td>45</td>\n",
       "      <td>3.0</td>\n",
       "      <td>2</td>\n",
       "      <td>0</td>\n",
       "      <td>0</td>\n",
       "      <td>73</td>\n",
       "      <td>0</td>\n",
       "    </tr>\n",
       "  </tbody>\n",
       "</table>\n",
       "</div>"
      ],
      "text/plain": [
       "   employee_id         department     region         education gender  \\\n",
       "0        65438  Sales & Marketing   region_7  Master's & above      f   \n",
       "1        65141         Operations  region_22        Bachelor's      m   \n",
       "2         7513  Sales & Marketing  region_19        Bachelor's      m   \n",
       "3         2542  Sales & Marketing  region_23        Bachelor's      m   \n",
       "4        48945         Technology  region_26        Bachelor's      m   \n",
       "\n",
       "  recruitment_channel  no_of_trainings  age  previous_year_rating  \\\n",
       "0            sourcing                1   35                   5.0   \n",
       "1               other                1   30                   5.0   \n",
       "2            sourcing                1   34                   3.0   \n",
       "3               other                2   39                   1.0   \n",
       "4               other                1   45                   3.0   \n",
       "\n",
       "   length_of_service  KPIs_met >80%  awards_won?  avg_training_score  \\\n",
       "0                  8              1            0                  49   \n",
       "1                  4              0            0                  60   \n",
       "2                  7              0            0                  50   \n",
       "3                 10              0            0                  50   \n",
       "4                  2              0            0                  73   \n",
       "\n",
       "   is_promoted  \n",
       "0            0  \n",
       "1            0  \n",
       "2            0  \n",
       "3            0  \n",
       "4            0  "
      ]
     },
     "execution_count": 5,
     "metadata": {},
     "output_type": "execute_result"
    }
   ],
   "source": [
    "df_train.head()"
   ]
  },
  {
   "cell_type": "code",
   "execution_count": 6,
   "metadata": {},
   "outputs": [
    {
     "data": {
      "text/plain": [
       "employee_id             False\n",
       "department              False\n",
       "region                  False\n",
       "education                True\n",
       "gender                  False\n",
       "recruitment_channel     False\n",
       "no_of_trainings         False\n",
       "age                     False\n",
       "previous_year_rating     True\n",
       "length_of_service       False\n",
       "KPIs_met >80%           False\n",
       "awards_won?             False\n",
       "avg_training_score      False\n",
       "is_promoted             False\n",
       "dtype: bool"
      ]
     },
     "execution_count": 6,
     "metadata": {},
     "output_type": "execute_result"
    }
   ],
   "source": [
    "df_train.isnull().any()"
   ]
  },
  {
   "cell_type": "code",
   "execution_count": 7,
   "metadata": {},
   "outputs": [
    {
     "data": {
      "text/plain": [
       "employee_id             False\n",
       "department              False\n",
       "region                  False\n",
       "education                True\n",
       "gender                  False\n",
       "recruitment_channel     False\n",
       "no_of_trainings         False\n",
       "age                     False\n",
       "previous_year_rating     True\n",
       "length_of_service       False\n",
       "KPIs_met >80%           False\n",
       "awards_won?             False\n",
       "avg_training_score      False\n",
       "dtype: bool"
      ]
     },
     "execution_count": 7,
     "metadata": {},
     "output_type": "execute_result"
    }
   ],
   "source": [
    "df_test.isnull().any()"
   ]
  },
  {
   "cell_type": "code",
   "execution_count": 8,
   "metadata": {},
   "outputs": [
    {
     "data": {
      "text/plain": [
       "employee_id                0\n",
       "department                 0\n",
       "region                     0\n",
       "education               2409\n",
       "gender                     0\n",
       "recruitment_channel        0\n",
       "no_of_trainings            0\n",
       "age                        0\n",
       "previous_year_rating    4124\n",
       "length_of_service          0\n",
       "KPIs_met >80%              0\n",
       "awards_won?                0\n",
       "avg_training_score         0\n",
       "is_promoted                0\n",
       "dtype: int64"
      ]
     },
     "execution_count": 8,
     "metadata": {},
     "output_type": "execute_result"
    }
   ],
   "source": [
    "df_train.isnull().sum()"
   ]
  },
  {
   "cell_type": "code",
   "execution_count": 9,
   "metadata": {},
   "outputs": [
    {
     "data": {
      "text/plain": [
       "employee_id                0\n",
       "department                 0\n",
       "region                     0\n",
       "education               1034\n",
       "gender                     0\n",
       "recruitment_channel        0\n",
       "no_of_trainings            0\n",
       "age                        0\n",
       "previous_year_rating    1812\n",
       "length_of_service          0\n",
       "KPIs_met >80%              0\n",
       "awards_won?                0\n",
       "avg_training_score         0\n",
       "dtype: int64"
      ]
     },
     "execution_count": 9,
     "metadata": {},
     "output_type": "execute_result"
    }
   ],
   "source": [
    "df_test.isnull().sum()"
   ]
  },
  {
   "cell_type": "code",
   "execution_count": 10,
   "metadata": {},
   "outputs": [
    {
     "data": {
      "text/plain": [
       "((54808, 14), (23490, 13))"
      ]
     },
     "execution_count": 10,
     "metadata": {},
     "output_type": "execute_result"
    }
   ],
   "source": [
    "df_train.shape,df_test.shape"
   ]
  },
  {
   "cell_type": "code",
   "execution_count": 11,
   "metadata": {},
   "outputs": [],
   "source": [
    "#I will develop two model one without Education and previous_year_rating other with including them."
   ]
  },
  {
   "cell_type": "code",
   "execution_count": 12,
   "metadata": {},
   "outputs": [
    {
     "data": {
      "text/plain": [
       "Index(['employee_id', 'department', 'region', 'education', 'gender',\n",
       "       'recruitment_channel', 'no_of_trainings', 'age', 'previous_year_rating',\n",
       "       'length_of_service', 'KPIs_met >80%', 'awards_won?',\n",
       "       'avg_training_score', 'is_promoted'],\n",
       "      dtype='object')"
      ]
     },
     "execution_count": 12,
     "metadata": {},
     "output_type": "execute_result"
    }
   ],
   "source": [
    "df_train.columns"
   ]
  },
  {
   "cell_type": "code",
   "execution_count": 13,
   "metadata": {},
   "outputs": [],
   "source": [
    "Target = df_train[\"is_promoted\"]\n",
    "#drop the target variable from train data\n",
    "df_train = df_train.drop(\"is_promoted\", axis=1)"
   ]
  },
  {
   "cell_type": "code",
   "execution_count": 14,
   "metadata": {},
   "outputs": [],
   "source": [
    "#combine the dataset for processing\n",
    "all_data = df_train.copy()"
   ]
  },
  {
   "cell_type": "code",
   "execution_count": 15,
   "metadata": {},
   "outputs": [],
   "source": [
    "all_data = all_data.append(pd.DataFrame(data = df_test), ignore_index=True)"
   ]
  },
  {
   "cell_type": "code",
   "execution_count": 16,
   "metadata": {},
   "outputs": [
    {
     "data": {
      "text/plain": [
       "(78298, 13)"
      ]
     },
     "execution_count": 16,
     "metadata": {},
     "output_type": "execute_result"
    }
   ],
   "source": [
    "all_data.shape"
   ]
  },
  {
   "cell_type": "code",
   "execution_count": 17,
   "metadata": {},
   "outputs": [
    {
     "data": {
      "text/html": [
       "<div>\n",
       "<style scoped>\n",
       "    .dataframe tbody tr th:only-of-type {\n",
       "        vertical-align: middle;\n",
       "    }\n",
       "\n",
       "    .dataframe tbody tr th {\n",
       "        vertical-align: top;\n",
       "    }\n",
       "\n",
       "    .dataframe thead th {\n",
       "        text-align: right;\n",
       "    }\n",
       "</style>\n",
       "<table border=\"1\" class=\"dataframe\">\n",
       "  <thead>\n",
       "    <tr style=\"text-align: right;\">\n",
       "      <th></th>\n",
       "      <th>employee_id</th>\n",
       "      <th>department</th>\n",
       "      <th>region</th>\n",
       "      <th>education</th>\n",
       "      <th>gender</th>\n",
       "      <th>recruitment_channel</th>\n",
       "      <th>no_of_trainings</th>\n",
       "      <th>age</th>\n",
       "      <th>previous_year_rating</th>\n",
       "      <th>length_of_service</th>\n",
       "      <th>KPIs_met &gt;80%</th>\n",
       "      <th>awards_won?</th>\n",
       "      <th>avg_training_score</th>\n",
       "    </tr>\n",
       "  </thead>\n",
       "  <tbody>\n",
       "    <tr>\n",
       "      <th>78293</th>\n",
       "      <td>53478</td>\n",
       "      <td>Legal</td>\n",
       "      <td>region_2</td>\n",
       "      <td>Below Secondary</td>\n",
       "      <td>m</td>\n",
       "      <td>sourcing</td>\n",
       "      <td>1</td>\n",
       "      <td>24</td>\n",
       "      <td>3.0</td>\n",
       "      <td>1</td>\n",
       "      <td>0</td>\n",
       "      <td>0</td>\n",
       "      <td>61</td>\n",
       "    </tr>\n",
       "    <tr>\n",
       "      <th>78294</th>\n",
       "      <td>25600</td>\n",
       "      <td>Technology</td>\n",
       "      <td>region_25</td>\n",
       "      <td>Bachelor's</td>\n",
       "      <td>m</td>\n",
       "      <td>sourcing</td>\n",
       "      <td>1</td>\n",
       "      <td>31</td>\n",
       "      <td>3.0</td>\n",
       "      <td>7</td>\n",
       "      <td>0</td>\n",
       "      <td>0</td>\n",
       "      <td>74</td>\n",
       "    </tr>\n",
       "    <tr>\n",
       "      <th>78295</th>\n",
       "      <td>45409</td>\n",
       "      <td>HR</td>\n",
       "      <td>region_16</td>\n",
       "      <td>Bachelor's</td>\n",
       "      <td>f</td>\n",
       "      <td>sourcing</td>\n",
       "      <td>1</td>\n",
       "      <td>26</td>\n",
       "      <td>4.0</td>\n",
       "      <td>4</td>\n",
       "      <td>0</td>\n",
       "      <td>0</td>\n",
       "      <td>50</td>\n",
       "    </tr>\n",
       "    <tr>\n",
       "      <th>78296</th>\n",
       "      <td>1186</td>\n",
       "      <td>Procurement</td>\n",
       "      <td>region_31</td>\n",
       "      <td>Bachelor's</td>\n",
       "      <td>m</td>\n",
       "      <td>sourcing</td>\n",
       "      <td>3</td>\n",
       "      <td>27</td>\n",
       "      <td>NaN</td>\n",
       "      <td>1</td>\n",
       "      <td>0</td>\n",
       "      <td>0</td>\n",
       "      <td>70</td>\n",
       "    </tr>\n",
       "    <tr>\n",
       "      <th>78297</th>\n",
       "      <td>5973</td>\n",
       "      <td>Technology</td>\n",
       "      <td>region_17</td>\n",
       "      <td>Master's &amp; above</td>\n",
       "      <td>m</td>\n",
       "      <td>other</td>\n",
       "      <td>3</td>\n",
       "      <td>40</td>\n",
       "      <td>5.0</td>\n",
       "      <td>5</td>\n",
       "      <td>1</td>\n",
       "      <td>0</td>\n",
       "      <td>89</td>\n",
       "    </tr>\n",
       "  </tbody>\n",
       "</table>\n",
       "</div>"
      ],
      "text/plain": [
       "       employee_id   department     region         education gender  \\\n",
       "78293        53478        Legal   region_2   Below Secondary      m   \n",
       "78294        25600   Technology  region_25        Bachelor's      m   \n",
       "78295        45409           HR  region_16        Bachelor's      f   \n",
       "78296         1186  Procurement  region_31        Bachelor's      m   \n",
       "78297         5973   Technology  region_17  Master's & above      m   \n",
       "\n",
       "      recruitment_channel  no_of_trainings  age  previous_year_rating  \\\n",
       "78293            sourcing                1   24                   3.0   \n",
       "78294            sourcing                1   31                   3.0   \n",
       "78295            sourcing                1   26                   4.0   \n",
       "78296            sourcing                3   27                   NaN   \n",
       "78297               other                3   40                   5.0   \n",
       "\n",
       "       length_of_service  KPIs_met >80%  awards_won?  avg_training_score  \n",
       "78293                  1              0            0                  61  \n",
       "78294                  7              0            0                  74  \n",
       "78295                  4              0            0                  50  \n",
       "78296                  1              0            0                  70  \n",
       "78297                  5              1            0                  89  "
      ]
     },
     "execution_count": 17,
     "metadata": {},
     "output_type": "execute_result"
    }
   ],
   "source": [
    "all_data.tail()"
   ]
  },
  {
   "cell_type": "code",
   "execution_count": 18,
   "metadata": {},
   "outputs": [],
   "source": [
    "#droping employee_id\n",
    "all_data = all_data.drop(\"employee_id\",axis=1)"
   ]
  },
  {
   "cell_type": "code",
   "execution_count": 19,
   "metadata": {},
   "outputs": [],
   "source": [
    "#1st model droping education and previous_year_rating\n",
    "all_data = all_data.drop([\"education\", \"previous_year_rating\"],axis=1)"
   ]
  },
  {
   "cell_type": "code",
   "execution_count": 20,
   "metadata": {},
   "outputs": [
    {
     "data": {
      "text/html": [
       "<div>\n",
       "<style scoped>\n",
       "    .dataframe tbody tr th:only-of-type {\n",
       "        vertical-align: middle;\n",
       "    }\n",
       "\n",
       "    .dataframe tbody tr th {\n",
       "        vertical-align: top;\n",
       "    }\n",
       "\n",
       "    .dataframe thead th {\n",
       "        text-align: right;\n",
       "    }\n",
       "</style>\n",
       "<table border=\"1\" class=\"dataframe\">\n",
       "  <thead>\n",
       "    <tr style=\"text-align: right;\">\n",
       "      <th></th>\n",
       "      <th>department</th>\n",
       "      <th>region</th>\n",
       "      <th>gender</th>\n",
       "      <th>recruitment_channel</th>\n",
       "      <th>no_of_trainings</th>\n",
       "      <th>age</th>\n",
       "      <th>length_of_service</th>\n",
       "      <th>KPIs_met &gt;80%</th>\n",
       "      <th>awards_won?</th>\n",
       "      <th>avg_training_score</th>\n",
       "    </tr>\n",
       "  </thead>\n",
       "  <tbody>\n",
       "    <tr>\n",
       "      <th>0</th>\n",
       "      <td>Sales &amp; Marketing</td>\n",
       "      <td>region_7</td>\n",
       "      <td>f</td>\n",
       "      <td>sourcing</td>\n",
       "      <td>1</td>\n",
       "      <td>35</td>\n",
       "      <td>8</td>\n",
       "      <td>1</td>\n",
       "      <td>0</td>\n",
       "      <td>49</td>\n",
       "    </tr>\n",
       "    <tr>\n",
       "      <th>1</th>\n",
       "      <td>Operations</td>\n",
       "      <td>region_22</td>\n",
       "      <td>m</td>\n",
       "      <td>other</td>\n",
       "      <td>1</td>\n",
       "      <td>30</td>\n",
       "      <td>4</td>\n",
       "      <td>0</td>\n",
       "      <td>0</td>\n",
       "      <td>60</td>\n",
       "    </tr>\n",
       "    <tr>\n",
       "      <th>2</th>\n",
       "      <td>Sales &amp; Marketing</td>\n",
       "      <td>region_19</td>\n",
       "      <td>m</td>\n",
       "      <td>sourcing</td>\n",
       "      <td>1</td>\n",
       "      <td>34</td>\n",
       "      <td>7</td>\n",
       "      <td>0</td>\n",
       "      <td>0</td>\n",
       "      <td>50</td>\n",
       "    </tr>\n",
       "    <tr>\n",
       "      <th>3</th>\n",
       "      <td>Sales &amp; Marketing</td>\n",
       "      <td>region_23</td>\n",
       "      <td>m</td>\n",
       "      <td>other</td>\n",
       "      <td>2</td>\n",
       "      <td>39</td>\n",
       "      <td>10</td>\n",
       "      <td>0</td>\n",
       "      <td>0</td>\n",
       "      <td>50</td>\n",
       "    </tr>\n",
       "    <tr>\n",
       "      <th>4</th>\n",
       "      <td>Technology</td>\n",
       "      <td>region_26</td>\n",
       "      <td>m</td>\n",
       "      <td>other</td>\n",
       "      <td>1</td>\n",
       "      <td>45</td>\n",
       "      <td>2</td>\n",
       "      <td>0</td>\n",
       "      <td>0</td>\n",
       "      <td>73</td>\n",
       "    </tr>\n",
       "  </tbody>\n",
       "</table>\n",
       "</div>"
      ],
      "text/plain": [
       "          department     region gender recruitment_channel  no_of_trainings  \\\n",
       "0  Sales & Marketing   region_7      f            sourcing                1   \n",
       "1         Operations  region_22      m               other                1   \n",
       "2  Sales & Marketing  region_19      m            sourcing                1   \n",
       "3  Sales & Marketing  region_23      m               other                2   \n",
       "4         Technology  region_26      m               other                1   \n",
       "\n",
       "   age  length_of_service  KPIs_met >80%  awards_won?  avg_training_score  \n",
       "0   35                  8              1            0                  49  \n",
       "1   30                  4              0            0                  60  \n",
       "2   34                  7              0            0                  50  \n",
       "3   39                 10              0            0                  50  \n",
       "4   45                  2              0            0                  73  "
      ]
     },
     "execution_count": 20,
     "metadata": {},
     "output_type": "execute_result"
    }
   ],
   "source": [
    "all_data.head()"
   ]
  },
  {
   "cell_type": "code",
   "execution_count": 21,
   "metadata": {},
   "outputs": [
    {
     "data": {
      "text/plain": [
       "array(['Sales & Marketing', 'Operations', 'Technology', 'Analytics',\n",
       "       'R&D', 'Procurement', 'Finance', 'HR', 'Legal'], dtype=object)"
      ]
     },
     "execution_count": 21,
     "metadata": {},
     "output_type": "execute_result"
    }
   ],
   "source": [
    "all_data[\"department\"].unique()"
   ]
  },
  {
   "cell_type": "code",
   "execution_count": 22,
   "metadata": {},
   "outputs": [
    {
     "data": {
      "text/plain": [
       "array(['region_7', 'region_22', 'region_19', 'region_23', 'region_26',\n",
       "       'region_2', 'region_20', 'region_34', 'region_1', 'region_4',\n",
       "       'region_29', 'region_31', 'region_15', 'region_14', 'region_11',\n",
       "       'region_5', 'region_28', 'region_17', 'region_13', 'region_16',\n",
       "       'region_25', 'region_10', 'region_27', 'region_30', 'region_12',\n",
       "       'region_21', 'region_8', 'region_32', 'region_6', 'region_33',\n",
       "       'region_24', 'region_3', 'region_9', 'region_18'], dtype=object)"
      ]
     },
     "execution_count": 22,
     "metadata": {},
     "output_type": "execute_result"
    }
   ],
   "source": [
    "all_data[\"region\"].unique()"
   ]
  },
  {
   "cell_type": "code",
   "execution_count": 28,
   "metadata": {},
   "outputs": [],
   "source": [
    "import matplotlib.pyplot as plt\n",
    "import numpy as np\n",
    "import scipy"
   ]
  },
  {
   "cell_type": "code",
   "execution_count": 30,
   "metadata": {},
   "outputs": [
    {
     "data": {
      "image/png": "[encoded data removed]",
      "text/plain": [
       "<Figure size 1152x720 with 1 Axes>"
      ]
     },
     "metadata": {},
     "output_type": "display_data"
    }
   ],
   "source": [
    "from scipy.cluster import hierarchy as hc\n",
    "corr = np.round(scipy.stats.spearmanr(all_data).correlation, 4)\n",
    "corr_condensed = hc.distance.squareform(1-corr)\n",
    "z = hc.linkage(corr_condensed, method='average')\n",
    "fig = plt.figure(figsize=(16,10))\n",
    "dendrogram = hc.dendrogram(z, labels=all_data.columns, orientation='left', leaf_font_size=16)\n",
    "plt.show()"
   ]
  },
  {
   "cell_type": "code",
   "execution_count": 32,
   "metadata": {},
   "outputs": [],
   "source": [
    "import matplotlib.pyplot as plt"
   ]
  },
  {
   "cell_type": "code",
   "execution_count": 33,
   "metadata": {},
   "outputs": [
    {
     "data": {
      "text/plain": [
       "<matplotlib.image.AxesImage at 0x7fdcf0df2320>"
      ]
     },
     "execution_count": 33,
     "metadata": {},
     "output_type": "execute_result"
    },
    {
     "data": {
      "image/png": "[encoded data removed]",
      "text/plain": [
       "<Figure size 288x288 with 1 Axes>"
      ]
     },
     "metadata": {},
     "output_type": "display_data"
    }
   ],
   "source": [
    "plt.matshow(all_data.corr())"
   ]
  },
  {
   "cell_type": "code",
   "execution_count": 37,
   "metadata": {},
   "outputs": [
    {
     "data": {
      "text/html": [
       "<style  type=\"text/css\" >\n",
       "    #T_7c9c89c8_24b2_11e9_a96f_01fc31c6d790row0_col0 {\n",
       "            background-color:  #023858;\n",
       "        }    #T_7c9c89c8_24b2_11e9_a96f_01fc31c6d790row0_col1 {\n",
       "            background-color:  #fff7fb;\n",
       "        }    #T_7c9c89c8_24b2_11e9_a96f_01fc31c6d790row0_col2 {\n",
       "            background-color:  #fdf5fa;\n",
       "        }    #T_7c9c89c8_24b2_11e9_a96f_01fc31c6d790row0_col3 {\n",
       "            background-color:  #faf3f9;\n",
       "        }    #T_7c9c89c8_24b2_11e9_a96f_01fc31c6d790row0_col4 {\n",
       "            background-color:  #faf3f9;\n",
       "        }    #T_7c9c89c8_24b2_11e9_a96f_01fc31c6d790row0_col5 {\n",
       "            background-color:  #f2ecf5;\n",
       "        }    #T_7c9c89c8_24b2_11e9_a96f_01fc31c6d790row1_col0 {\n",
       "            background-color:  #fff7fb;\n",
       "        }    #T_7c9c89c8_24b2_11e9_a96f_01fc31c6d790row1_col1 {\n",
       "            background-color:  #023858;\n",
       "        }    #T_7c9c89c8_24b2_11e9_a96f_01fc31c6d790row1_col2 {\n",
       "            background-color:  #2182b9;\n",
       "        }    #T_7c9c89c8_24b2_11e9_a96f_01fc31c6d790row1_col3 {\n",
       "            background-color:  #f8f1f8;\n",
       "        }    #T_7c9c89c8_24b2_11e9_a96f_01fc31c6d790row1_col4 {\n",
       "            background-color:  #faf3f9;\n",
       "        }    #T_7c9c89c8_24b2_11e9_a96f_01fc31c6d790row1_col5 {\n",
       "            background-color:  #fff7fb;\n",
       "        }    #T_7c9c89c8_24b2_11e9_a96f_01fc31c6d790row2_col0 {\n",
       "            background-color:  #fcf4fa;\n",
       "        }    #T_7c9c89c8_24b2_11e9_a96f_01fc31c6d790row2_col1 {\n",
       "            background-color:  #2081b9;\n",
       "        }    #T_7c9c89c8_24b2_11e9_a96f_01fc31c6d790row2_col2 {\n",
       "            background-color:  #023858;\n",
       "        }    #T_7c9c89c8_24b2_11e9_a96f_01fc31c6d790row2_col3 {\n",
       "            background-color:  #fff7fb;\n",
       "        }    #T_7c9c89c8_24b2_11e9_a96f_01fc31c6d790row2_col4 {\n",
       "            background-color:  #fff7fb;\n",
       "        }    #T_7c9c89c8_24b2_11e9_a96f_01fc31c6d790row2_col5 {\n",
       "            background-color:  #fef6fa;\n",
       "        }    #T_7c9c89c8_24b2_11e9_a96f_01fc31c6d790row3_col0 {\n",
       "            background-color:  #faf2f8;\n",
       "        }    #T_7c9c89c8_24b2_11e9_a96f_01fc31c6d790row3_col1 {\n",
       "            background-color:  #f7f0f7;\n",
       "        }    #T_7c9c89c8_24b2_11e9_a96f_01fc31c6d790row3_col2 {\n",
       "            background-color:  #fff7fb;\n",
       "        }    #T_7c9c89c8_24b2_11e9_a96f_01fc31c6d790row3_col3 {\n",
       "            background-color:  #023858;\n",
       "        }    #T_7c9c89c8_24b2_11e9_a96f_01fc31c6d790row3_col4 {\n",
       "            background-color:  #eae6f1;\n",
       "        }    #T_7c9c89c8_24b2_11e9_a96f_01fc31c6d790row3_col5 {\n",
       "            background-color:  #eee8f3;\n",
       "        }    #T_7c9c89c8_24b2_11e9_a96f_01fc31c6d790row4_col0 {\n",
       "            background-color:  #f4eef6;\n",
       "        }    #T_7c9c89c8_24b2_11e9_a96f_01fc31c6d790row4_col1 {\n",
       "            background-color:  #f5eef6;\n",
       "        }    #T_7c9c89c8_24b2_11e9_a96f_01fc31c6d790row4_col2 {\n",
       "            background-color:  #faf3f9;\n",
       "        }    #T_7c9c89c8_24b2_11e9_a96f_01fc31c6d790row4_col3 {\n",
       "            background-color:  #e3e0ee;\n",
       "        }    #T_7c9c89c8_24b2_11e9_a96f_01fc31c6d790row4_col4 {\n",
       "            background-color:  #023858;\n",
       "        }    #T_7c9c89c8_24b2_11e9_a96f_01fc31c6d790row4_col5 {\n",
       "            background-color:  #eee9f3;\n",
       "        }    #T_7c9c89c8_24b2_11e9_a96f_01fc31c6d790row5_col0 {\n",
       "            background-color:  #eee8f3;\n",
       "        }    #T_7c9c89c8_24b2_11e9_a96f_01fc31c6d790row5_col1 {\n",
       "            background-color:  #faf3f9;\n",
       "        }    #T_7c9c89c8_24b2_11e9_a96f_01fc31c6d790row5_col2 {\n",
       "            background-color:  #f9f2f8;\n",
       "        }    #T_7c9c89c8_24b2_11e9_a96f_01fc31c6d790row5_col3 {\n",
       "            background-color:  #e8e4f0;\n",
       "        }    #T_7c9c89c8_24b2_11e9_a96f_01fc31c6d790row5_col4 {\n",
       "            background-color:  #efe9f3;\n",
       "        }    #T_7c9c89c8_24b2_11e9_a96f_01fc31c6d790row5_col5 {\n",
       "            background-color:  #023858;\n",
       "        }</style>  \n",
       "<table id=\"T_7c9c89c8_24b2_11e9_a96f_01fc31c6d790\" > \n",
       "<thead>    <tr> \n",
       "        <th class=\"blank level0\" ></th> \n",
       "        <th class=\"col_heading level0 col0\" >no_of_trainings</th> \n",
       "        <th class=\"col_heading level0 col1\" >age</th> \n",
       "        <th class=\"col_heading level0 col2\" >length_of_service</th> \n",
       "        <th class=\"col_heading level0 col3\" >KPIs_met >80%</th> \n",
       "        <th class=\"col_heading level0 col4\" >awards_won?</th> \n",
       "        <th class=\"col_heading level0 col5\" >avg_training_score</th> \n",
       "    </tr></thead> \n",
       "<tbody>    <tr> \n",
       "        <th id=\"T_7c9c89c8_24b2_11e9_a96f_01fc31c6d790level0_row0\" class=\"row_heading level0 row0\" >no_of_trainings</th> \n",
       "        <td id=\"T_7c9c89c8_24b2_11e9_a96f_01fc31c6d790row0_col0\" class=\"data row0 col0\" >1</td> \n",
       "        <td id=\"T_7c9c89c8_24b2_11e9_a96f_01fc31c6d790row0_col1\" class=\"data row0 col1\" >-0.083</td> \n",
       "        <td id=\"T_7c9c89c8_24b2_11e9_a96f_01fc31c6d790row0_col2\" class=\"data row0 col2\" >-0.058</td> \n",
       "        <td id=\"T_7c9c89c8_24b2_11e9_a96f_01fc31c6d790row0_col3\" class=\"data row0 col3\" >-0.044</td> \n",
       "        <td id=\"T_7c9c89c8_24b2_11e9_a96f_01fc31c6d790row0_col4\" class=\"data row0 col4\" >-0.0048</td> \n",
       "        <td id=\"T_7c9c89c8_24b2_11e9_a96f_01fc31c6d790row0_col5\" class=\"data row0 col5\" >0.044</td> \n",
       "    </tr>    <tr> \n",
       "        <th id=\"T_7c9c89c8_24b2_11e9_a96f_01fc31c6d790level0_row1\" class=\"row_heading level0 row1\" >age</th> \n",
       "        <td id=\"T_7c9c89c8_24b2_11e9_a96f_01fc31c6d790row1_col0\" class=\"data row1 col0\" >-0.083</td> \n",
       "        <td id=\"T_7c9c89c8_24b2_11e9_a96f_01fc31c6d790row1_col1\" class=\"data row1 col1\" >1</td> \n",
       "        <td id=\"T_7c9c89c8_24b2_11e9_a96f_01fc31c6d790row1_col2\" class=\"data row1 col2\" >0.65</td> \n",
       "        <td id=\"T_7c9c89c8_24b2_11e9_a96f_01fc31c6d790row1_col3\" class=\"data row1 col3\" >-0.026</td> \n",
       "        <td id=\"T_7c9c89c8_24b2_11e9_a96f_01fc31c6d790row1_col4\" class=\"data row1 col4\" >-0.0074</td> \n",
       "        <td id=\"T_7c9c89c8_24b2_11e9_a96f_01fc31c6d790row1_col5\" class=\"data row1 col5\" >-0.045</td> \n",
       "    </tr>    <tr> \n",
       "        <th id=\"T_7c9c89c8_24b2_11e9_a96f_01fc31c6d790level0_row2\" class=\"row_heading level0 row2\" >length_of_service</th> \n",
       "        <td id=\"T_7c9c89c8_24b2_11e9_a96f_01fc31c6d790row2_col0\" class=\"data row2 col0\" >-0.058</td> \n",
       "        <td id=\"T_7c9c89c8_24b2_11e9_a96f_01fc31c6d790row2_col1\" class=\"data row2 col1\" >0.65</td> \n",
       "        <td id=\"T_7c9c89c8_24b2_11e9_a96f_01fc31c6d790row2_col2\" class=\"data row2 col2\" >1</td> \n",
       "        <td id=\"T_7c9c89c8_24b2_11e9_a96f_01fc31c6d790row2_col3\" class=\"data row2 col3\" >-0.078</td> \n",
       "        <td id=\"T_7c9c89c8_24b2_11e9_a96f_01fc31c6d790row2_col4\" class=\"data row2 col4\" >-0.041</td> \n",
       "        <td id=\"T_7c9c89c8_24b2_11e9_a96f_01fc31c6d790row2_col5\" class=\"data row2 col5\" >-0.035</td> \n",
       "    </tr>    <tr> \n",
       "        <th id=\"T_7c9c89c8_24b2_11e9_a96f_01fc31c6d790level0_row3\" class=\"row_heading level0 row3\" >KPIs_met >80%</th> \n",
       "        <td id=\"T_7c9c89c8_24b2_11e9_a96f_01fc31c6d790row3_col0\" class=\"data row3 col0\" >-0.044</td> \n",
       "        <td id=\"T_7c9c89c8_24b2_11e9_a96f_01fc31c6d790row3_col1\" class=\"data row3 col1\" >-0.026</td> \n",
       "        <td id=\"T_7c9c89c8_24b2_11e9_a96f_01fc31c6d790row3_col2\" class=\"data row3 col2\" >-0.078</td> \n",
       "        <td id=\"T_7c9c89c8_24b2_11e9_a96f_01fc31c6d790row3_col3\" class=\"data row3 col3\" >1</td> \n",
       "        <td id=\"T_7c9c89c8_24b2_11e9_a96f_01fc31c6d790row3_col4\" class=\"data row3 col4\" >0.1</td> \n",
       "        <td id=\"T_7c9c89c8_24b2_11e9_a96f_01fc31c6d790row3_col5\" class=\"data row3 col5\" >0.077</td> \n",
       "    </tr>    <tr> \n",
       "        <th id=\"T_7c9c89c8_24b2_11e9_a96f_01fc31c6d790level0_row4\" class=\"row_heading level0 row4\" >awards_won?</th> \n",
       "        <td id=\"T_7c9c89c8_24b2_11e9_a96f_01fc31c6d790row4_col0\" class=\"data row4 col0\" >-0.0048</td> \n",
       "        <td id=\"T_7c9c89c8_24b2_11e9_a96f_01fc31c6d790row4_col1\" class=\"data row4 col1\" >-0.0074</td> \n",
       "        <td id=\"T_7c9c89c8_24b2_11e9_a96f_01fc31c6d790row4_col2\" class=\"data row4 col2\" >-0.041</td> \n",
       "        <td id=\"T_7c9c89c8_24b2_11e9_a96f_01fc31c6d790row4_col3\" class=\"data row4 col3\" >0.1</td> \n",
       "        <td id=\"T_7c9c89c8_24b2_11e9_a96f_01fc31c6d790row4_col4\" class=\"data row4 col4\" >1</td> \n",
       "        <td id=\"T_7c9c89c8_24b2_11e9_a96f_01fc31c6d790row4_col5\" class=\"data row4 col5\" >0.073</td> \n",
       "    </tr>    <tr> \n",
       "        <th id=\"T_7c9c89c8_24b2_11e9_a96f_01fc31c6d790level0_row5\" class=\"row_heading level0 row5\" >avg_training_score</th> \n",
       "        <td id=\"T_7c9c89c8_24b2_11e9_a96f_01fc31c6d790row5_col0\" class=\"data row5 col0\" >0.044</td> \n",
       "        <td id=\"T_7c9c89c8_24b2_11e9_a96f_01fc31c6d790row5_col1\" class=\"data row5 col1\" >-0.045</td> \n",
       "        <td id=\"T_7c9c89c8_24b2_11e9_a96f_01fc31c6d790row5_col2\" class=\"data row5 col2\" >-0.035</td> \n",
       "        <td id=\"T_7c9c89c8_24b2_11e9_a96f_01fc31c6d790row5_col3\" class=\"data row5 col3\" >0.077</td> \n",
       "        <td id=\"T_7c9c89c8_24b2_11e9_a96f_01fc31c6d790row5_col4\" class=\"data row5 col4\" >0.073</td> \n",
       "        <td id=\"T_7c9c89c8_24b2_11e9_a96f_01fc31c6d790row5_col5\" class=\"data row5 col5\" >1</td> \n",
       "    </tr></tbody> \n",
       "</table> "
      ],
      "text/plain": [
       "<pandas.io.formats.style.Styler at 0x7fdcef4a1588>"
      ]
     },
     "execution_count": 37,
     "metadata": {},
     "output_type": "execute_result"
    }
   ],
   "source": [
    "import pandas as pd\n",
    "import numpy as np\n",
    "\n",
    "rs = np.random.RandomState(0)\n",
    "df = pd.DataFrame(rs.rand(10, 10))\n",
    "corr = all_data.corr()\n",
    "corr.style.background_gradient().set_precision(2)"
   ]
  },
  {
   "cell_type": "code",
   "execution_count": 38,
   "metadata": {},
   "outputs": [],
   "source": [
    "#There is a very less corelation between variables . maximum relation is 65% in age  and length_of_service"
   ]
  },
  {
   "cell_type": "code",
   "execution_count": 39,
   "metadata": {},
   "outputs": [],
   "source": [
    "#Doing some EDA\n"
   ]
  },
  {
   "cell_type": "code",
   "execution_count": 40,
   "metadata": {},
   "outputs": [],
   "source": [
    "import matplotlib.pyplot as plt"
   ]
  },
  {
   "cell_type": "code",
   "execution_count": 59,
   "metadata": {},
   "outputs": [
    {
     "data": {
      "image/png": "[encoded data removed]",
      "text/plain": [
       "<Figure size 432x288 with 1 Axes>"
      ]
     },
     "metadata": {},
     "output_type": "display_data"
    }
   ],
   "source": [
    "#Plots in matplotlib reside within a figure object, use plt.figure to create new figure\n",
    "fig=plt.figure()\n",
    "#Create one or more subplots using add_subplot, because you can't create blank figure\n",
    "ax = fig.add_subplot(1,1,1)\n",
    "#Variable\n",
    "ax.hist(all_data['age'],bins = 40)\n",
    "#Labels and Tit\n",
    "plt.title('Age distribution')\n",
    "plt.xlabel('Age')\n",
    "plt.ylabel('#Employee')\n",
    "plt.show()\n",
    "#Maximum age group is 28-35"
   ]
  },
  {
   "cell_type": "code",
   "execution_count": 63,
   "metadata": {},
   "outputs": [
    {
     "data": {
      "image/png": "[encoded data removed]",
      "text/plain": [
       "<Figure size 432x288 with 1 Axes>"
      ]
     },
     "metadata": {},
     "output_type": "display_data"
    }
   ],
   "source": [
    "#Plots in matplotlib reside within a figure object, use plt.figure to create new figure \n",
    "fig=plt.figure()\n",
    "#Create one or more subplots using add_subplot, because you can't create blank figure\n",
    "ax = fig.add_subplot(1,1,1)\n",
    "#Variable\n",
    "ax.scatter(df_train['age'],Target)\n",
    "#Labels and Tit\n",
    "plt.title('Is_promoted and Age distribution')\n",
    "plt.xlabel('Age')\n",
    "plt.ylabel('Is_promoted')\n",
    "plt.show()"
   ]
  },
  {
   "cell_type": "code",
   "execution_count": null,
   "metadata": {},
   "outputs": [],
   "source": []
  }
 ],
 "metadata": {
  "kernelspec": {
   "display_name": "Python 3",
   "language": "python",
   "name": "python3"
  },
  "language_info": {
   "codemirror_mode": {
    "name": "ipython",
    "version": 3
   },
   "file_extension": ".py",
   "mimetype": "text/x-python",
   "name": "python",
   "nbconvert_exporter": "python",
   "pygments_lexer": "ipython3",
   "version": "3.6.8"
  }
 },
 "nbformat": 4,
 "nbformat_minor": 2
}
